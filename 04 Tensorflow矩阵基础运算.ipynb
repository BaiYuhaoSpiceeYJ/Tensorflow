{
 "cells": [
  {
   "cell_type": "code",
   "execution_count": 36,
   "metadata": {},
   "outputs": [
    {
     "name": "stdout",
     "output_type": "stream",
     "text": [
      "[[ 1  2  3  4]\n",
      " [ 5  6  7  8]\n",
      " [ 9 10 11 12]]\n"
     ]
    }
   ],
   "source": [
    "#import os\n",
    "#os.environ['TF_CPP_MIN_LOG_LEVEL'] = '2'#减少输出的信息\n",
    "\n",
    "\n",
    "import tensorflow as tf\n",
    "\n",
    "with tf.Session() as sess:\n",
    "    #x = tf.ones([3,2],tf.int32)\n",
    "    #print(sess.run(x))\n",
    "    \n",
    "    #b = [[1,2,3],[4,5,6]]\n",
    "    #x = tf.ones_like(b)#构建一个形状和b一样的全为1的矩阵,还有zeros\n",
    "    #print(sess.run(x))\n",
    "    \n",
    "    #x = tf.fill([2,3],2)\n",
    "    #print(sess.run(x))\n",
    "    \n",
    "    #x = [1,2,3]\n",
    "    #s = tf.shape(x)\n",
    "    #print(sess.run(s))\n",
    "    \n",
    "    #x = [1,2,3]\n",
    "    #y = tf.expand_dims(x,1)#提升维度的方向，此时可以为0或1\n",
    "    #print(sess.run(y))\n",
    "    \n",
    "    #x = tf.linspace(1.0,5.0,5)#形成等差数列 (起点，终点，个数，名称可不写)\n",
    "    #x = tf.range(1,13,1)#形成等差数列 (起点，终点，步长)\n",
    "    #print(sess.run(x))\n",
    "    \n",
    "    x = tf.range(1,13,1)\n",
    "    x = tf.reshape(x,[3,4])\n",
    "    x = tf.reshape(x,[-1])\n",
    "    x = tf.reshape(x,[-1,4])#最多只能有一维是-1，和numpy一样\n",
    "    print(sess.run(x))"
   ]
  },
  {
   "cell_type": "code",
   "execution_count": null,
   "metadata": {},
   "outputs": [],
   "source": []
  }
 ],
 "metadata": {
  "kernelspec": {
   "display_name": "Python 3",
   "language": "python",
   "name": "python3"
  },
  "language_info": {
   "codemirror_mode": {
    "name": "ipython",
    "version": 3
   },
   "file_extension": ".py",
   "mimetype": "text/x-python",
   "name": "python",
   "nbconvert_exporter": "python",
   "pygments_lexer": "ipython3",
   "version": "3.6.5"
  }
 },
 "nbformat": 4,
 "nbformat_minor": 2
}
