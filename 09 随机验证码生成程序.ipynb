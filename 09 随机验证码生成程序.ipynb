{
 "cells": [
  {
   "cell_type": "code",
   "execution_count": 39,
   "metadata": {},
   "outputs": [
    {
     "name": "stdout",
     "output_type": "stream",
     "text": [
      "['9', '7', '9', '4']\n",
      "<PIL.PngImagePlugin.PngImageFile image mode=RGB size=160x60 at 0x588E080>\n",
      "(60, 160, 3)\n"
     ]
    }
   ],
   "source": [
    "from captcha.image import ImageCaptcha #audio语音验证码\n",
    "from PIL import Image\n",
    "import numpy as np\n",
    "import random\n",
    "\n",
    "#方法1\n",
    "#img = ImageCaptcha()\n",
    "#print(img)\n",
    "#img.write('1234','test.jpg')#要创造的数字，保存的名字\n",
    "\n",
    "#方法二\n",
    "#创建随机数的图片\n",
    "numbers = ['0','1','2','3','4','5','6','7','.8','9']\n",
    "def gen_random_captcha_text(number=4):\n",
    "    captcha_text = []\n",
    "    for i in range(number):\n",
    "        captcha_text.append(random.choice(numbers))\n",
    "    return captcha_text\n",
    "\n",
    "def gen_captcha(number=4):\n",
    "    img = ImageCaptcha()\n",
    "    captcha_text = gen_random_captcha_text(number)\n",
    "    captcha_os= img.generate(captcha_text)#captcha_os为一个jpg的输出流\n",
    "    captcha_image  = Image.open(captcha_os)#PIL中的open函数允许把输出流转换为jpg\n",
    "    captcha_data  = np.array(captcha_image)#np.array允许把输出流转为像素值矩阵\n",
    "    return captcha_text,captcha_image,captcha_data\n",
    "\n",
    "text,image,data = gen_captcha()\n",
    "\n",
    "text_total = str()\n",
    "for text_ in text:\n",
    "    text_total += text_\n",
    "fileName = 'captcha_'+text_total+'.jpg'\n",
    "\n",
    "img.write(text,fileName)\n",
    "print(text)\n",
    "print(image)\n",
    "print(data.shape)"
   ]
  },
  {
   "cell_type": "code",
   "execution_count": null,
   "metadata": {},
   "outputs": [],
   "source": []
  }
 ],
 "metadata": {
  "kernelspec": {
   "display_name": "Python 3",
   "language": "python",
   "name": "python3"
  },
  "language_info": {
   "codemirror_mode": {
    "name": "ipython",
    "version": 3
   },
   "file_extension": ".py",
   "mimetype": "text/x-python",
   "name": "python",
   "nbconvert_exporter": "python",
   "pygments_lexer": "ipython3",
   "version": "3.6.5"
  }
 },
 "nbformat": 4,
 "nbformat_minor": 2
}
