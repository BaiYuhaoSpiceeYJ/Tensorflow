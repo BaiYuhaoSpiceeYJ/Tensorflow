{
 "cells": [
  {
   "cell_type": "code",
   "execution_count": 1,
   "metadata": {},
   "outputs": [
    {
     "name": "stderr",
     "output_type": "stream",
     "text": [
      "E:\\Anaconda3\\lib\\site-packages\\h5py\\__init__.py:36: FutureWarning: Conversion of the second argument of issubdtype from `float` to `np.floating` is deprecated. In future, it will be treated as `np.float64 == np.dtype(float).type`.\n",
      "  from ._conv import register_converters as _register_converters\n"
     ]
    }
   ],
   "source": [
    "import tensorflow as tf\n",
    "x = tf.constant([[1],[2],[3],[4],[5]],dtype=tf.float32)\n",
    "y = tf.constant([[1.1],[2.15],[3.25],[4.41],[5.60]],dtype=tf.float32)\n",
    "\n",
    "#构建模型\n",
    "linear_model = tf.layers.Dense(units = 1)#层，单元数，w=1*1，b=1\n",
    "y_ = linear_model(x)\n",
    "\n",
    "#训练\n",
    "loss = tf.losses.mean_squared_error(labels = y, predictions = y_)\n",
    "tf.summary.scalar('loss',loss)\n",
    "optimizer = tf.train.GradientDescentOptimizer(0.01)\n",
    "train = optimizer.minimize(loss)\n",
    "\n",
    "with tf.Session() as sess:\n",
    "    tf.global_variables_initializer().run()#虽然没有自己定义Variable，但是在调用layers时存在Variable\n",
    "    merged = tf.summary.merge_all()\n",
    "    writer = tf.summary.FileWriter('./log/demo11',sess.graph)\n",
    "    for i in range(1000):\n",
    "        summary,_ = sess.run([merged,train])\n",
    "        writer.add_summary(summary,i)\n"
   ]
  },
  {
   "cell_type": "code",
   "execution_count": null,
   "metadata": {},
   "outputs": [],
   "source": []
  }
 ],
 "metadata": {
  "kernelspec": {
   "display_name": "Python 3",
   "language": "python",
   "name": "python3"
  },
  "language_info": {
   "codemirror_mode": {
    "name": "ipython",
    "version": 3
   },
   "file_extension": ".py",
   "mimetype": "text/x-python",
   "name": "python",
   "nbconvert_exporter": "python",
   "pygments_lexer": "ipython3",
   "version": "3.6.5"
  }
 },
 "nbformat": 4,
 "nbformat_minor": 2
}
