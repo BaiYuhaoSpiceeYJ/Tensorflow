{
 "cells": [
  {
   "cell_type": "code",
   "execution_count": 1,
   "metadata": {},
   "outputs": [
    {
     "name": "stderr",
     "output_type": "stream",
     "text": [
      "E:\\Anaconda3\\lib\\site-packages\\h5py\\__init__.py:36: FutureWarning: Conversion of the second argument of issubdtype from `float` to `np.floating` is deprecated. In future, it will be treated as `np.float64 == np.dtype(float).type`.\n",
      "  from ._conv import register_converters as _register_converters\n"
     ]
    }
   ],
   "source": [
    "import tensorflow as tf\n",
    "\n",
    "a = tf.constant(3.1,name = 'a')  \n",
    "\n",
    "x = tf.placeholder(tf.float32,name = 'x')\n",
    "tf.summary.scalar('x',x)#跟踪结果，名字，张量\n",
    "\n",
    "w =tf.Variable(2.0,name = 'w')\n",
    "\n",
    "result = tf.add(a,w*x)\n",
    "tf.summary.scalar('result',result)#跟踪结果，名字，张量\n",
    "\n",
    "sess = tf.Session()\n",
    "merged = tf.summary.merge_all()#统一捆绑所有scalar\n",
    "init = tf.global_variables_initializer()\n",
    "\n",
    "\n",
    "\n",
    "graph = sess.graph#拿出运算图\n",
    "writer = tf.summary.FileWriter('./log/demo01',graph)#把运算过程标记并且储存，生成对应的日志文件,(位置，内容)\n",
    "\n",
    "\n",
    "sess.run(init)\n",
    "for i in range(100):\n",
    "    summary_, result_ = sess.run([merged, result], feed_dict={x:float(i)})#用将merged的运算结果放入summary中\n",
    "    writer.add_summary(summary_, i)#添加运算结果,（运算值，运算步数）\n",
    "\n",
    "sess.close()"
   ]
  },
  {
   "cell_type": "code",
   "execution_count": null,
   "metadata": {},
   "outputs": [],
   "source": []
  }
 ],
 "metadata": {
  "kernelspec": {
   "display_name": "Python 3",
   "language": "python",
   "name": "python3"
  },
  "language_info": {
   "codemirror_mode": {
    "name": "ipython",
    "version": 3
   },
   "file_extension": ".py",
   "mimetype": "text/x-python",
   "name": "python",
   "nbconvert_exporter": "python",
   "pygments_lexer": "ipython3",
   "version": "3.6.5"
  }
 },
 "nbformat": 4,
 "nbformat_minor": 2
}
