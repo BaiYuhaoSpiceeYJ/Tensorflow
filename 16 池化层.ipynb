{
 "cells": [
  {
   "cell_type": "code",
   "execution_count": 1,
   "metadata": {},
   "outputs": [
    {
     "name": "stderr",
     "output_type": "stream",
     "text": [
      "E:\\Anaconda3\\lib\\site-packages\\h5py\\__init__.py:36: FutureWarning: Conversion of the second argument of issubdtype from `float` to `np.floating` is deprecated. In future, it will be treated as `np.float64 == np.dtype(float).type`.\n",
      "  from ._conv import register_converters as _register_converters\n"
     ]
    }
   ],
   "source": [
    "import tensorflow as tf\n",
    "import numpy as np\n",
    "import sys\n",
    "sys.path.append(r'.\\Pycharm')\n",
    "from Captcha import gen_captcha,numbers\n",
    "\n",
    "def text2vec(text):#text变为one hot coding\n",
    "    vector = np.zeros(40)\n",
    "    for i in range(len(text)):\n",
    "        idx = i*10+ord(text[i])-48#ACSII转int\n",
    "        vector[idx] = 1\n",
    "    return vector\n",
    "\n",
    "def gen_batch(size=100):#生成一批数据\n",
    "    batch_x = np.zeros((size,9600),np.float64)\n",
    "    batch_y = np.zeros((size,40))\n",
    "    for i in range(size):\n",
    "        text,image,data = gen_captcha()\n",
    "        batch_x[i,:] = np.mean(image,-1).flatten()/255#rgb转为灰度值，再归一化\n",
    "        batch_y[i,:] = text2vec(text)#text变为one hot coding\n",
    "    return batch_x,batch_y\n",
    "    \n",
    "\n",
    " \n",
    "       \n",
    "with tf.Session() as sess:\n",
    "    #原始图\n",
    "    '''text,image,data = gen_captcha()\n",
    "    image0 = tf.reshape(image,shape=[-1,60,160,3])\n",
    "    summary_op = tf.summary.image('image0',image0)\n",
    "    writer = tf.summary.FileWriter('./log/demo15')\n",
    "    merged = tf.summary.merge_all()\n",
    "    summary = sess.run(merged)\n",
    "    writer.add_summary(summary)'''\n",
    "    \n",
    "    #转为灰度图\n",
    "    '''x1,y1 = gen_batch(1)\n",
    "    image1 = tf.reshape(x1,shape=[-1,60,160,1])\n",
    "    tf.summary.image('image1',image1)\n",
    "    writer = tf.summary.FileWriter('./log/demo15/image-gray')\n",
    "    merged = tf.summary.merge_all()\n",
    "    summary = sess.run(merged)\n",
    "    writer.add_summary(summary)'''\n",
    "    \n",
    "    #生成数据\n",
    "    x1,y1 = gen_batch(1)\n",
    "    x = tf.placeholder(tf.float32,[None,60*160])#不然的话类型不匹配\n",
    "    image1 = tf.reshape(x,shape=[-1,60,160,1])\n",
    "    tf.summary.image('image1',image1)\n",
    "    \n",
    "    #卷积并激活\n",
    "    kernel = tf.Variable(tf.random_normal([3,3,1,32]))#（卷积核尺寸（奇数），图片维度，要达到的维度）\n",
    "    b = tf.Variable(tf.random_normal([32]))\n",
    "    image2 = tf.nn.conv2d(image1,kernel,strides=[1,1,1,1],padding='SAME')#strides:步长\n",
    "    image2 = tf.nn.relu(tf.nn.bias_add(image2,b))#对image2 偏置并且relu激活\n",
    "    #tf.summary.image('image2',image2)\n",
    "    #池化\n",
    "    image2 = tf.nn.max_pool(image2,ksize=[1,2,2,1],strides=[1,2,2,1],padding='SAME')#（图片，核,步长，padding）其中核（批次通道，高度，宽度，颜色）\n",
    "    image2 = tf.reshape(image2,shape=[-1,30,80,1])#因为步长为2，所以图片长宽会缩小2倍\n",
    "    tf.summary.image('image2',image2)\n",
    "    \n",
    "    tf.global_variables_initializer().run()\n",
    "    writer = tf.summary.FileWriter('./log/demo16/image-pool32')\n",
    "    merged = tf.summary.merge_all()\n",
    "    summary = sess.run(merged,feed_dict={x:x1})\n",
    "    writer.add_summary(summary)"
   ]
  },
  {
   "cell_type": "code",
   "execution_count": null,
   "metadata": {},
   "outputs": [],
   "source": []
  }
 ],
 "metadata": {
  "kernelspec": {
   "display_name": "Python 3",
   "language": "python",
   "name": "python3"
  },
  "language_info": {
   "codemirror_mode": {
    "name": "ipython",
    "version": 3
   },
   "file_extension": ".py",
   "mimetype": "text/x-python",
   "name": "python",
   "nbconvert_exporter": "python",
   "pygments_lexer": "ipython3",
   "version": "3.6.5"
  }
 },
 "nbformat": 4,
 "nbformat_minor": 2
}
