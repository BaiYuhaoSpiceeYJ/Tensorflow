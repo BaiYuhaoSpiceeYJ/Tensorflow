{
 "cells": [
  {
   "cell_type": "code",
   "execution_count": 1,
   "metadata": {},
   "outputs": [
    {
     "name": "stderr",
     "output_type": "stream",
     "text": [
      "E:\\Anaconda3\\lib\\site-packages\\h5py\\__init__.py:36: FutureWarning: Conversion of the second argument of issubdtype from `float` to `np.floating` is deprecated. In future, it will be treated as `np.float64 == np.dtype(float).type`.\n",
      "  from ._conv import register_converters as _register_converters\n"
     ]
    }
   ],
   "source": [
    "import tensorflow as tf\n",
    "\n",
    "x = tf.placeholder(tf.float32,[None,1])\n",
    "y = tf.placeholder(tf.float32,[None,1])\n",
    "\n",
    "w = tf.Variable(tf.random_normal([1,1],name='weight'))#权重矩阵，通过训练得到\n",
    "b = tf.Variable(tf.random_normal([1],name = 'b'))#均衡矩阵,截距\n",
    "\n",
    "y_ = tf.add(tf.matmul(x,w),b)#y = wx+b\n",
    "\n",
    "cost = tf.losses.sigmoid_cross_entropy(y,y_)#计算损失函数cost的值\n",
    "\n",
    "with tf.Session() as sess:\n",
    "    tf.summary.FileWriter('./log/demo03',sess.graph)\n",
    "\n"
   ]
  },
  {
   "cell_type": "code",
   "execution_count": 6,
   "metadata": {},
   "outputs": [],
   "source": [
    "import tensorflow as tf\n",
    "\n",
    "x = tf.placeholder(tf.float32,[None,1])\n",
    "y = tf.placeholder(tf.float32,[None,1])\n",
    "\n",
    "model = tf.layers.Dense(units = 1)\n",
    "\n",
    "y_ = model(x)\n",
    "cost = tf.losses.sigmoid_cross_entropy(y,y_)#计算损失函数cost的值\n",
    "\n",
    "with tf.Session() as sess:\n",
    "    tf.summary.FileWriter('./log/demo03',sess.graph)\n"
   ]
  },
  {
   "cell_type": "code",
   "execution_count": 79,
   "metadata": {},
   "outputs": [
    {
     "name": "stdout",
     "output_type": "stream",
     "text": [
      "[[18.172358]] [16.266062]\n",
      "[[ 34.43842 ]\n",
      " [ 52.61078 ]\n",
      " [ 70.783134]\n",
      " [ 88.95549 ]\n",
      " [107.127846]]\n"
     ]
    }
   ],
   "source": [
    "import numpy as np\n",
    "x_data = np.array([1,2,3,4,5]).reshape(-1,1)\n",
    "y_data = np.array([1.1,2.15,3.25,4.41,5.60]).reshape(-1,1)\n",
    "\n",
    "import tensorflow as tf\n",
    "\n",
    "\n",
    "x = tf.placeholder(tf.float32,[None,1])\n",
    "y = tf.placeholder(tf.float32,[None,1])\n",
    "\n",
    "w = tf.Variable(tf.random_normal([1,1],name='weight'))#权重矩阵，通过训练得到\n",
    "b = tf.Variable(tf.random_normal([1],name = 'b'))#均衡矩阵,截距\n",
    "\n",
    "y_ = tf.add(tf.matmul(x,w),b)#y = wx+b\n",
    "#y_ = tf.nn.relu(y_)\n",
    "\n",
    "\n",
    "cost = tf.losses.sigmoid_cross_entropy(y,y_)#计算损失函数cost的值\n",
    "#cost = tf.reduce_sum(tf.square(y-y_))\n",
    "\n",
    "\n",
    "#train_step = tf.train.GradientDescentOptimizer(0.1).minimize(cost)\n",
    "train_step = tf.train.AdamOptimizer(0.01).minimize(cost)#创建优化器\n",
    "\n",
    "with tf.Session() as sess:\n",
    "    init = tf.global_variables_initializer()#初始化所有变量\n",
    "    sess.run(init)\n",
    "    for i in range(0,2000):\n",
    "        sess.run(train_step,feed_dict={x:x_data,y:y_data})\n",
    "    print(sess.run(w),sess.run(b))\n",
    "    print(sess.run(y_,feed_dict={x:x_data}))"
   ]
  },
  {
   "cell_type": "code",
   "execution_count": null,
   "metadata": {},
   "outputs": [],
   "source": []
  }
 ],
 "metadata": {
  "kernelspec": {
   "display_name": "Python 3",
   "language": "python",
   "name": "python3"
  },
  "language_info": {
   "codemirror_mode": {
    "name": "ipython",
    "version": 3
   },
   "file_extension": ".py",
   "mimetype": "text/x-python",
   "name": "python",
   "nbconvert_exporter": "python",
   "pygments_lexer": "ipython3",
   "version": "3.6.5"
  }
 },
 "nbformat": 4,
 "nbformat_minor": 2
}
