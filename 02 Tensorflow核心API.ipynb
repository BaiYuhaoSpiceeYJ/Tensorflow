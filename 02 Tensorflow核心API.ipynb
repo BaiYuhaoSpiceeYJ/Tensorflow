{
 "cells": [
  {
   "cell_type": "code",
   "execution_count": 25,
   "metadata": {},
   "outputs": [
    {
     "name": "stdout",
     "output_type": "stream",
     "text": [
      "Tensor(\"a_13:0\", shape=(), dtype=float32)\n",
      "Tensor(\"add_44:0\", shape=(), dtype=float32)\n",
      "Tensor(\"addbyh_11:0\", shape=(), dtype=float32)\n",
      "Tensor(\"x_13:0\", dtype=float32)\n",
      "<tf.Variable 'w_13:0' shape=() dtype=float32_ref>\n",
      "6.2\n",
      "12.4\n",
      "6.1\n"
     ]
    }
   ],
   "source": [
    "import tensorflow as tf\n",
    "\n",
    "a = tf.constant(3.1,name = 'a')   #声明常量并取名\n",
    "print(a)\n",
    "print(a+a)\n",
    "print(tf.add(a,a,name = 'addbyh'))\n",
    "\n",
    "x = tf.placeholder(tf.float32,name = 'x')#占位符,不需要初始化，但需要传值\n",
    "print(x)\n",
    "\n",
    "w =tf.Variable(2.0,name = 'w')#变量,需要初始化，一般用于机器学习的目标\n",
    "print(w)\n",
    "\n",
    "#使用Session进行动态运算\n",
    "sess = tf.Session()#在session之前，print和都只能打印张量结构，但值都是0\n",
    "print(sess.run(a+a))\n",
    "init = tf.global_variables_initializer()#初始化所有变量\n",
    "sess.run(init)\n",
    "print(sess.run(tf.add(w*a,a+a)))#不初始化无法运行，因为变量和常量本质不同，变量需要更新，要初始化\n",
    "print(sess.run(tf.add(a,x),feed_dict = {x:3.0}))#用feed_dict给占位符赋值，否则报错"
   ]
  },
  {
   "cell_type": "code",
   "execution_count": null,
   "metadata": {},
   "outputs": [],
   "source": []
  }
 ],
 "metadata": {
  "kernelspec": {
   "display_name": "Python 3",
   "language": "python",
   "name": "python3"
  },
  "language_info": {
   "codemirror_mode": {
    "name": "ipython",
    "version": 3
   },
   "file_extension": ".py",
   "mimetype": "text/x-python",
   "name": "python",
   "nbconvert_exporter": "python",
   "pygments_lexer": "ipython3",
   "version": "3.6.5"
  }
 },
 "nbformat": 4,
 "nbformat_minor": 2
}
