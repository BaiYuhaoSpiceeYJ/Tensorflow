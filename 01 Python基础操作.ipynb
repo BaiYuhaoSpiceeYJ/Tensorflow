{
 "cells": [
  {
   "cell_type": "code",
   "execution_count": 5,
   "metadata": {},
   "outputs": [
    {
     "name": "stdout",
     "output_type": "stream",
     "text": [
      "abc123\n",
      "abc1235\n",
      "True\n",
      "False\n"
     ]
    }
   ],
   "source": [
    "str = 'abc'\n",
    "str = str + '123'\n",
    "print(str)\n",
    "\n",
    "str = '%s%d' %(str,5)\n",
    "print(str)\n",
    "\n",
    "print('bc1'in str)#判断是否在字符串中\n",
    "print('bc2'in str)#判断是否在字符串中"
   ]
  },
  {
   "cell_type": "code",
   "execution_count": null,
   "metadata": {},
   "outputs": [],
   "source": []
  }
 ],
 "metadata": {
  "kernelspec": {
   "display_name": "Python 3",
   "language": "python",
   "name": "python3"
  },
  "language_info": {
   "codemirror_mode": {
    "name": "ipython",
    "version": 3
   },
   "file_extension": ".py",
   "mimetype": "text/x-python",
   "name": "python",
   "nbconvert_exporter": "python",
   "pygments_lexer": "ipython3",
   "version": "3.6.5"
  }
 },
 "nbformat": 4,
 "nbformat_minor": 2
}
