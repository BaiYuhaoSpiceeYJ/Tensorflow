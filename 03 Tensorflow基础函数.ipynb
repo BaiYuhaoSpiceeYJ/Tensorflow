{
 "cells": [
  {
   "cell_type": "code",
   "execution_count": 50,
   "metadata": {},
   "outputs": [
    {
     "name": "stdout",
     "output_type": "stream",
     "text": [
      "tensor =  Tensor(\"Cos_1:0\", dtype=float32)\n",
      "result =  -0.41614684\n"
     ]
    }
   ],
   "source": [
    "import os\n",
    "os.environ['TF_CPP_MIN_LOG_LEVEL'] = '2'#减少输出的信息\n",
    "\n",
    "import math\n",
    "\n",
    "import tensorflow as tf\n",
    "\n",
    "a = tf.placeholder(tf.float32)\n",
    "b = tf.placeholder(tf.float32)\n",
    "\n",
    "#result = tf.add(a,b)    #加\n",
    "#result = tf.subtract(a,b)    #减\n",
    "#result = tf.multiply(a,b)    #乘\n",
    "#result = tf.div(a,b)    #除，div，用python2.7中的除法运算，若整数相除还是整数\n",
    "#result = tf.divide(a,b)    #除，truediv，使用python2.7中的除法运算，更精准，与数字类型无关\n",
    "#result = tf.truediv(a,b)    #同上\n",
    "#result = tf.realdiv(a,b)    #同上\n",
    "#result = tf.floordiv(a,b)    #地板运算，保留整数部分\n",
    "#result = tf.floor_div(a,b)    #同上，保证版本兼容性\n",
    "#result = tf.mod(a,b)    #取余，可有小数\n",
    "#result = tf.pow(a,b)    #幂\n",
    "#result = tf.maximum(a,b)    #取大的\n",
    "#result = tf.minimum(a,b)    #取小的\n",
    "#result = tf.abs(a)    #绝对值\n",
    "#result = tf.negative(a)    #取反\n",
    "#result = tf.sign(b)    #正返回1，负返回-1\n",
    "#result = tf.reciprocal(b)    #倒数\n",
    "#result = tf.square(b)    #平方\n",
    "#result = tf.sqrt(b)    #开方\n",
    "#result = tf.log(b)    #对数\n",
    "#result = tf.cos(b)    #cos,sin,tan\n",
    "result = tf.cos(b)    #b:math.pi/6\n",
    "\n",
    "\n",
    "print('tensor = ',result)\n",
    "\n",
    "with tf.Session() as sess:\n",
    "    result_ = sess.run(result,feed_dict={a:1.0,b:2.0})\n",
    "    print('result = ',result_)"
   ]
  },
  {
   "cell_type": "code",
   "execution_count": null,
   "metadata": {},
   "outputs": [],
   "source": []
  }
 ],
 "metadata": {
  "kernelspec": {
   "display_name": "Python 3",
   "language": "python",
   "name": "python3"
  },
  "language_info": {
   "codemirror_mode": {
    "name": "ipython",
    "version": 3
   },
   "file_extension": ".py",
   "mimetype": "text/x-python",
   "name": "python",
   "nbconvert_exporter": "python",
   "pygments_lexer": "ipython3",
   "version": "3.6.5"
  }
 },
 "nbformat": 4,
 "nbformat_minor": 2
}
