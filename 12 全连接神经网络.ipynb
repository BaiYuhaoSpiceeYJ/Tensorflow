{
 "cells": [
  {
   "cell_type": "code",
   "execution_count": 2,
   "metadata": {},
   "outputs": [
    {
     "name": "stderr",
     "output_type": "stream",
     "text": [
      "E:\\Anaconda3\\lib\\site-packages\\h5py\\__init__.py:36: FutureWarning: Conversion of the second argument of issubdtype from `float` to `np.floating` is deprecated. In future, it will be treated as `np.float64 == np.dtype(float).type`.\n",
      "  from ._conv import register_converters as _register_converters\n"
     ]
    }
   ],
   "source": [
    "import tensorflow as tf\n",
    "import numpy as np\n",
    "batch_size = 400\n",
    "\n",
    "X = tf.placeholder(tf.float32,[None,1])\n",
    "Y = tf.placeholder(tf.float32,[None,1])\n",
    "\n",
    "with tf.name_scope('layer1') as scope:\n",
    "    w0 = tf.Variable(tf.random_normal([1,1],name='weight'))#权重矩阵，通过训练得到\n",
    "    b0 = tf.Variable(tf.random_normal([1],name = 'b'))#均衡矩阵,截距\n",
    "\n",
    "    a1 = tf.sigmoid(tf.add(tf.matmul(X,w0),b0))\n",
    "    \n",
    "with tf.name_scope('layer2') as scope:\n",
    "    w1 = tf.Variable(tf.random_normal([1,1],name='weight'))\n",
    "    b1 = tf.Variable(tf.random_normal([1],name = 'b'))\n",
    "                 \n",
    "    y_predict = tf.add(tf.matmul(a1,w1),b1)#y = wx+b\n",
    "\n",
    "#cost = tf.losses.sigmoid_cross_entropy(Y,y_predict)#计算损失函数cost的值\n",
    "cost = tf.losses.sigmoid_cross_entropy(y_predict,Y)#计算损失函数cost的值\n",
    "optimizer = tf.train.AdamOptimizer(0.01).minimize(cost)#创建优化器\n",
    "\n",
    "x_total = np.linspace(-5,5,400)\n",
    "y_total = np.sin(x_total)+np.random.normal(0,0.01,400)#均值0，方差0.01,400个\n",
    "x_total = x_total.reshape(-1,1)\n",
    "y_total = y_total.reshape(-1,1)\n",
    "\n",
    "with tf.Session() as sess:\n",
    "    tf.summary.FileWriter('./log/demo12',sess.graph)\n",
    "    '''tf.global_variables_initializer().run()\n",
    "    for step in range(1,1000):\n",
    "        for i in range(int(400/batch_size)):#取出一部分数据\n",
    "            batch_x = x_total[i:i+batch_size]\n",
    "            batch_y = y_total[i:i+batch_size]\n",
    "            sess.run(optimizer,feed_dict={X:batch_x,Y:batch_y})\n",
    "        cost_,w_,b_ = sess.run([cost,w,b],feed_dict={X:x_total,Y:y_total})\n",
    "    print(step,cost_,w_,b_)'''"
   ]
  },
  {
   "cell_type": "code",
   "execution_count": null,
   "metadata": {},
   "outputs": [],
   "source": []
  }
 ],
 "metadata": {
  "kernelspec": {
   "display_name": "Python 3",
   "language": "python",
   "name": "python3"
  },
  "language_info": {
   "codemirror_mode": {
    "name": "ipython",
    "version": 3
   },
   "file_extension": ".py",
   "mimetype": "text/x-python",
   "name": "python",
   "nbconvert_exporter": "python",
   "pygments_lexer": "ipython3",
   "version": "3.6.5"
  }
 },
 "nbformat": 4,
 "nbformat_minor": 2
}
