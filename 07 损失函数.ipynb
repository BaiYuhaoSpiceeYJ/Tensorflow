{
 "cells": [
  {
   "cell_type": "code",
   "execution_count": 27,
   "metadata": {},
   "outputs": [
    {
     "name": "stdout",
     "output_type": "stream",
     "text": [
      "-1.8342942\n"
     ]
    }
   ],
   "source": [
    "import tensorflow as tf\n",
    "\n",
    "y = tf.placeholder(tf.float32,[2])\n",
    "y_= tf.placeholder(tf.float32,[2])\n",
    "\n",
    "#cost = tf.reduce_sum(tf.pow(y_-y,2.0))#矩阵对应项相减再平方再求和\n",
    "#cost = tf.reduce_mean(tf.pow(y_-y,2.0))#矩阵对应项相减再平方再求平均\n",
    "#cost = tf.losses.mean_squared_error(y,y_)#MSE，同上\n",
    "#cost = tf.losses.absolute_difference(y,y_)#对应项差的绝对值的平均\n",
    "cost = tf.losses.sigmoid_cross_entropy(y,y_)#交叉熵,逻辑回归本质\n",
    "\n",
    "with tf.Session() as sess:\n",
    "    print(sess.run(cost,feed_dict={y_:[1.0,4.0],y:[1.0,2.0]}))"
   ]
  },
  {
   "cell_type": "code",
   "execution_count": null,
   "metadata": {},
   "outputs": [],
   "source": []
  },
  {
   "cell_type": "code",
   "execution_count": null,
   "metadata": {},
   "outputs": [],
   "source": []
  }
 ],
 "metadata": {
  "kernelspec": {
   "display_name": "Python 3",
   "language": "python",
   "name": "python3"
  },
  "language_info": {
   "codemirror_mode": {
    "name": "ipython",
    "version": 3
   },
   "file_extension": ".py",
   "mimetype": "text/x-python",
   "name": "python",
   "nbconvert_exporter": "python",
   "pygments_lexer": "ipython3",
   "version": "3.6.5"
  }
 },
 "nbformat": 4,
 "nbformat_minor": 2
}
