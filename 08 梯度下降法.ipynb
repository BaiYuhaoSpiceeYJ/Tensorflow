{
 "cells": [
  {
   "cell_type": "code",
   "execution_count": 31,
   "metadata": {},
   "outputs": [
    {
     "name": "stdout",
     "output_type": "stream",
     "text": [
      "999 -0.8182393 [[-2.079335]] [-8.129549]\n"
     ]
    }
   ],
   "source": [
    "import tensorflow as tf\n",
    "import numpy as np\n",
    "batch_size = 400\n",
    "\n",
    "X = tf.placeholder(tf.float32,[None,1])\n",
    "Y = tf.placeholder(tf.float32,[None,1])\n",
    "\n",
    "w = tf.Variable(tf.random_normal([1,1],name='weight'))#权重矩阵，通过训练得到\n",
    "b = tf.Variable(tf.random_normal([1],name = 'b'))#均衡矩阵,截距\n",
    "\n",
    "y_predict = tf.add(tf.matmul(X,w),b)#y = wx+b\n",
    "\n",
    "cost = tf.losses.sigmoid_cross_entropy(Y,y_predict)#计算损失函数cost的值\n",
    "optimizer = tf.train.AdamOptimizer(0.01).minimize(cost)#创建优化器\n",
    "\n",
    "x_total = np.linspace(-5,5,400)\n",
    "y_total = np.sin(x_total)+np.random.normal(0,0.01,400)#均值0，方差0.01,400个\n",
    "x_total = x_total.reshape(-1,1)\n",
    "y_total = y_total.reshape(-1,1)\n",
    "\n",
    "with tf.Session() as sess:\n",
    "    #tf.summary.FileWriter('./log/demo03',sess.graph)\n",
    "    tf.global_variables_initializer().run()\n",
    "    for step in range(1,1000):\n",
    "        for i in range(int(400/batch_size)):#取出一部分数据\n",
    "            batch_x = x_total[i:i+batch_size]\n",
    "            batch_y = y_total[i:i+batch_size]\n",
    "            sess.run(optimizer,feed_dict={X:batch_x,Y:batch_y})\n",
    "        cost_,w_,b_ = sess.run([cost,w,b],feed_dict={X:x_total,Y:y_total})\n",
    "    print(step,cost_,w_,b_)"
   ]
  },
  {
   "cell_type": "code",
   "execution_count": 32,
   "metadata": {},
   "outputs": [
    {
     "name": "stdout",
     "output_type": "stream",
     "text": [
      "999 -124.16606 [[10.800693]] [10.970168]\n"
     ]
    }
   ],
   "source": [
    "import numpy as np\n",
    "x_data = np.array([1,2,3,4,5]).reshape(-1,1)\n",
    "y_data = np.array([1.1,2.15,3.25,4.41,5.60]).reshape(-1,1)\n",
    "\n",
    "import tensorflow as tf\n",
    "import numpy as np\n",
    "\n",
    "\n",
    "X = tf.placeholder(tf.float32,[None,1])\n",
    "Y = tf.placeholder(tf.float32,[None,1])\n",
    "\n",
    "w = tf.Variable(tf.random_normal([1,1],name='weight'))#权重矩阵，通过训练得到\n",
    "b = tf.Variable(tf.random_normal([1],name = 'b'))#均衡矩阵,截距\n",
    "\n",
    "y_predict = tf.add(tf.matmul(X,w),b)#y = wx+b\n",
    "\n",
    "cost = tf.losses.sigmoid_cross_entropy(Y,y_predict)#计算损失函数cost的值\n",
    "optimizer = tf.train.AdamOptimizer(0.01).minimize(cost)#创建优化器\n",
    "\n",
    "\n",
    "with tf.Session() as sess:\n",
    "    #tf.summary.FileWriter('./log/demo03',sess.graph)\n",
    "    tf.global_variables_initializer().run()\n",
    "    for step in range(1,1000):\n",
    "        sess.run(optimizer,feed_dict={X:x_data,Y:y_data})\n",
    "        cost_,w_,b_ = sess.run([cost,w,b],feed_dict={X:x_data,Y:y_data})\n",
    "    print(step,cost_,w_,b_)"
   ]
  },
  {
   "cell_type": "code",
   "execution_count": null,
   "metadata": {},
   "outputs": [],
   "source": []
  }
 ],
 "metadata": {
  "kernelspec": {
   "display_name": "Python 3",
   "language": "python",
   "name": "python3"
  },
  "language_info": {
   "codemirror_mode": {
    "name": "ipython",
    "version": 3
   },
   "file_extension": ".py",
   "mimetype": "text/x-python",
   "name": "python",
   "nbconvert_exporter": "python",
   "pygments_lexer": "ipython3",
   "version": "3.6.5"
  }
 },
 "nbformat": 4,
 "nbformat_minor": 2
}
